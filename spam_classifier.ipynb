{
 "cells": [
  {
   "cell_type": "markdown",
   "id": "93993acd",
   "metadata": {},
   "source": [
    "# Assignment: Classification\n",
    "\n",
    "Classification refers to categorizing the given data into classes. For example,\n",
    "- Given an image of hand-written character, identifying the character (multi-class classification)\n",
    "- Given an image, annotating it with all the objects present in the image (multi-label classification)\n",
    "- Classifying an email as spam or non-spam (binary classification)\n",
    "- Classifying a tumor as benign or malignant and so on\n",
    "\n",
    "In this assignment, we will be building a classifier to classify emails as spam or non-spam. We will be using the Kaggle dataset [Spam or Not Spam Dataset](https://www.kaggle.com/datasets/ozlerhakan/spam-or-not-spam-dataset?resource=download) for this task. \n",
    "\n",
    "**Note**: You cannot load any libraries other than the mentioned ones.\n",
    "\n",
    "\n"
   ]
  },
  {
   "cell_type": "markdown",
   "id": "0df69dbc",
   "metadata": {},
   "source": [
    "### Data pre-processing\n",
    "The first step in every machine learning algorithm is to process the raw data in some meaningful representations. We will be using the [Bag-of-Words](https://towardsdatascience.com/a-simple-explanation-of-the-bag-of-words-model-b88fc4f4971) representation to process the text. It comprises of following steps:\n",
    "\n",
    "- Process emails line-by-line to extract all the words.\n",
    "- Replace extracted words by their stem (root) word. This is known as stemming and lematization.\n",
    "- Remove stop words like and, or, is, am, and so on.\n",
    "- Assign a unique index to each word. This forms the vocabulary.\n",
    "- Represent each email as a binary vector of length equal to the size of the vocabulary such that the $i^{th}$ element of the vector is 1 iff the $i^th$ word is present in the email.\n",
    "\n",
    "Here we provide you with the function signature along with the expected functionality. You are expected to complete them accordingly. "
   ]
  },
  {
   "cell_type": "code",
   "execution_count": 1,
   "id": "851dc5e8",
   "metadata": {},
   "outputs": [],
   "source": [
    "import numpy as np\n",
    "from nltk.stem import PorterStemmer\n",
    "from nltk.corpus import stopwords"
   ]
  },
  {
   "cell_type": "code",
   "execution_count": 2,
   "id": "5d2b78a7",
   "metadata": {},
   "outputs": [],
   "source": [
    "# takes an email as an argument\n",
    "# read email line-by-line and extract all the words\n",
    "# return list of exracted words\n",
    "def read_email(email):\n",
    "    words = email.split(\" \")\n",
    "    return words"
   ]
  },
  {
   "cell_type": "code",
   "execution_count": 3,
   "id": "b952ca8c",
   "metadata": {},
   "outputs": [],
   "source": [
    "# takes a list of words as an argument\n",
    "# replace each word by their stem word\n",
    "# return list of stem words\n",
    "def stemming(list_of_words):\n",
    "    porter = PorterStemmer()\n",
    "    stem_words = [porter.stem(word) for word in list_of_words]\n",
    "    return stem_words"
   ]
  },
  {
   "cell_type": "code",
   "execution_count": 4,
   "id": "0ac215dd",
   "metadata": {},
   "outputs": [],
   "source": [
    "# takes a list of stem-words as an argument\n",
    "# remove stop words\n",
    "# return list of stem words after removing stop words\n",
    "def remove_stop_words(list_of_stem_words):\n",
    "    stop_words = set(stopwords.words('english'))\n",
    "    stem_no_stop_words = [w for w in list_of_stem_words if not w.lower() in stop_words]\n",
    "    return stem_no_stop_words"
   ]
  },
  {
   "cell_type": "code",
   "execution_count": 5,
   "id": "7670f697",
   "metadata": {},
   "outputs": [],
   "source": [
    "# takes a list of stem-words as an argument\n",
    "# add new words to the vocabulary and assign a unique index to them\n",
    "# returns new vocabulary\n",
    "def build_vocabulary(list_of_stem_words):\n",
    "    vocabulary = set()\n",
    "    for word_list in list_of_stem_words:\n",
    "        for word in word_list:\n",
    "            vocabulary.add(word)\n",
    "    vocab = [word for word in vocabulary]\n",
    "    vocab.pop(0)\n",
    "\n",
    "    return vocab"
   ]
  },
  {
   "cell_type": "code",
   "execution_count": 6,
   "id": "23791737",
   "metadata": {},
   "outputs": [],
   "source": [
    "# takes a list of stem-words and vocabulary as an argument\n",
    "# returns bow representation\n",
    "def get_bow(list_of_stem_words, vocab):\n",
    "    email_bow = []\n",
    "\n",
    "    for data_list in list_of_stem_words:\n",
    "        dict = {}\n",
    "        for word in vocab:\n",
    "            dict.update({word:0})\n",
    "        for word in vocab:\n",
    "            if word in data_list:\n",
    "                dict[word] += 1\n",
    "        email_bow.append(dict)\n",
    "\n",
    "    return email_bow"
   ]
  },
  {
   "cell_type": "code",
   "execution_count": 7,
   "id": "48cfbc83",
   "metadata": {},
   "outputs": [],
   "source": [
    "# read the entire list_of_stem_words\n",
    "# convert emails to bow and maintain their labels\n",
    "# call function text_to_bow()\n",
    "def read_data():\n",
    "    results = []\n",
    "    with open('spam_or_not_spam.csv', 'r', encoding='utf8') as f:\n",
    "        for line in f:\n",
    "                words = line.split(',')\n",
    "                results.append([words[0], words[1][0][0]])\n",
    "    spam_or_not_spam = results\n",
    "    spam_or_not_spam.pop(0)\n",
    "    list_of_stem_words = []\n",
    "    data = []\n",
    "    for mail in spam_or_not_spam:\n",
    "        list_of_stem_words.append(remove_stop_words(stemming(read_email(mail[0]))))\n",
    "    vocabulary = build_vocabulary(list_of_stem_words)\n",
    "    vocabulary.pop(0)\n",
    "    bows = get_bow(list_of_stem_words, vocabulary)\n",
    "    for i in range(0,len(spam_or_not_spam)):\n",
    "        data.append([bows[i], int(spam_or_not_spam[i][1])])\n",
    "    \n",
    "    return data,vocabulary"
   ]
  },
  {
   "cell_type": "markdown",
   "id": "00f9a549",
   "metadata": {},
   "source": [
    "### Data Visualization\n",
    "Let's understand the data distribution\n",
    "- Visualize the frequency of word-occurence in all the emails(spam + non-spam)\n",
    "- Visualize the freuency of word-occurence for spam and non-spam emails separately"
   ]
  },
  {
   "cell_type": "code",
   "execution_count": 8,
   "id": "a35949bb",
   "metadata": {},
   "outputs": [],
   "source": [
    "import matplotlib.pyplot as plt\n",
    "%matplotlib inline\n",
    "plt.rcParams[\"figure.figsize\"] = (100,50)"
   ]
  },
  {
   "cell_type": "code",
   "execution_count": 9,
   "id": "db08e6f3",
   "metadata": {},
   "outputs": [],
   "source": [
    "# visualize data distribution\n",
    "def data_vis(data, vocabulary):\n",
    "    dict_non_spam = {}\n",
    "    dict_spam = {}\n",
    "    dict_all = {}\n",
    "    for word in vocabulary:\n",
    "            dict_all.update({word:0})\n",
    "            dict_non_spam.update({word:0})\n",
    "            dict_spam.update({word:0})\n",
    "\n",
    "    for ind_data in data:\n",
    "        for key, value in ind_data[0].items():\n",
    "            dict_all[key] += int(value)\n",
    "            if ind_data[1] == 0:\n",
    "                dict_non_spam[key] += int(value)\n",
    "            else:\n",
    "                dict_spam[key] += int(value)\n",
    "    \n",
    "    \n",
    "    lists_all = dict_all.items()\n",
    "    x_axis, y_axis = zip(*lists_all)\n",
    "    plt.bar(x_axis, y_axis)\n",
    "    plt.title(\"Spam + Non-Spam Plot\")\n",
    "    plt.show()\n",
    "\n",
    "    lists_non_spam = dict_non_spam.items()\n",
    "    x_axis, y_axis = zip(*lists_non_spam)\n",
    "    plt.bar(x_axis, y_axis)\n",
    "    plt.title(\"Non-Spam Plot\")\n",
    "    plt.show()\n",
    "\n",
    "    lists_spam = dict_spam.items()\n",
    "    x_axis, y_axis = zip(*lists_spam)\n",
    "    plt.bar(x_axis, y_axis)\n",
    "    plt.title(\"Spam Plot\")\n",
    "    plt.show()"
   ]
  },
  {
   "cell_type": "code",
   "execution_count": null,
   "id": "2623f44d",
   "metadata": {
    "scrolled": false
   },
   "outputs": [],
   "source": [
    "dict_data, vocabulary = read_data()\n",
    "# data_vis(dict_data, vocabulary)"
   ]
  },
  {
   "cell_type": "markdown",
   "id": "64e5ef1d",
   "metadata": {},
   "source": [
    "### Learn a Classifier\n",
    "Split the dataset randomly in the ratio 80:20 as the training and test dataset. Use only training dataset to learn the classifier. No test data should be used during training. Test data will only be used during evaluation.\n",
    "\n",
    "Now let us try to use ML algorithms to classify emails as spam or non-spam. You are supposed to implement [SVM](https://scikit-learn.org/stable/modules/svm.html) and [K-Nearest Neighbour](https://scikit-learn.org/stable/modules/generated/sklearn.neighbors.KNeighborsClassifier.html) algorithm available in scikit-learn using the same training dataset for both."
   ]
  },
  {
   "cell_type": "code",
   "execution_count": 11,
   "id": "d373e447",
   "metadata": {},
   "outputs": [],
   "source": [
    "from sklearn.neighbors import KNeighborsClassifier\n",
    "from sklearn import svm"
   ]
  },
  {
   "cell_type": "code",
   "execution_count": 12,
   "id": "5d23bbfe",
   "metadata": {},
   "outputs": [],
   "source": [
    "# split dataset\n",
    "def split(data):\n",
    "    np.random.shuffle(data)\n",
    "    i = 0\n",
    "    mid_index = int(len(data)*8/10)\n",
    "    train_data, test_data = [],[]\n",
    "    for d in data:\n",
    "        if i < mid_index:\n",
    "            train_data.append(d)\n",
    "        else:\n",
    "            test_data.append(d)\n",
    "        i += 1\n",
    "\n",
    "    return train_data, test_data"
   ]
  },
  {
   "cell_type": "code",
   "execution_count": 13,
   "id": "9f8ff11a",
   "metadata": {},
   "outputs": [],
   "source": [
    "# Seperate email bow representation and its labels\n",
    "def data_to_list_data(data):\n",
    "    list_of_data = []\n",
    "    list_bool = []\n",
    "    for ind_data in data:\n",
    "        list_of_data.append(ind_data[0])\n",
    "        list_bool.append(ind_data[1])\n",
    "    \n",
    "    return list_of_data,list_bool"
   ]
  },
  {
   "cell_type": "code",
   "execution_count": 14,
   "id": "68639e47",
   "metadata": {},
   "outputs": [],
   "source": [
    "# learn a SVM model\n",
    "# use the model to make prediction\n",
    "# return the model predictions on train and test dataset\n",
    "def svm_classifier(train_data, test_data):\n",
    "    list_of_train_data, list_train_bool = data_to_list_data(train_data)\n",
    "    list_of_test_data, list_test_bool = data_to_list_data(test_data)\n",
    "    clf = svm.SVC()\n",
    "    clf.fit(list_of_train_data,list_train_bool)\n",
    "    svm_test_predictions = clf.predict(list_of_test_data)\n",
    "    svm_train_predictions = clf.predict(list_of_train_data)\n",
    "\n",
    "    return svm_test_predictions, svm_train_predictions"
   ]
  },
  {
   "cell_type": "code",
   "execution_count": 15,
   "id": "96c9582c",
   "metadata": {},
   "outputs": [],
   "source": [
    "# implement k-NN algorithm\n",
    "# use the model to make prediction\n",
    "# return the model predictions on train and test dataset\n",
    "def knn_classifier(train_data, test_data):\n",
    "    list_of_train_data, list_train_bool = data_to_list_data(train_data)\n",
    "    list_of_test_data, list_test_bool = data_to_list_data(test_data)\n",
    "    neigh = KNeighborsClassifier(n_neighbors=3)\n",
    "    neigh.fit(list_of_train_data, list_train_bool)\n",
    "    knn_test_predictions = neigh.predict(list_of_test_data)\n",
    "    knn_train_predictions = neigh.predict(list_of_train_data)\n",
    "\n",
    "    return knn_test_predictions, knn_train_predictions"
   ]
  },
  {
   "cell_type": "markdown",
   "id": "9d5bfa7e",
   "metadata": {},
   "source": [
    "### Model Evaluation\n",
    "Compare the SVM and k-NN model using metrics\n",
    "- Accuracy\n",
    "- [AUC score](https://scikit-learn.org/stable/modules/generated/sklearn.metrics.auc.html)\n"
   ]
  },
  {
   "cell_type": "code",
   "execution_count": 16,
   "id": "f9447d43",
   "metadata": {},
   "outputs": [],
   "source": [
    "from sklearn import metrics"
   ]
  },
  {
   "cell_type": "code",
   "execution_count": 17,
   "id": "f21db474",
   "metadata": {},
   "outputs": [],
   "source": [
    "# compute accuracy \n",
    "def compute_accuracy(true_labels, predicted_labels):\n",
    "    acc = metrics.accuracy_score(true_labels,predicted_labels)\n",
    "    return acc"
   ]
  },
  {
   "cell_type": "code",
   "execution_count": 18,
   "id": "397cc21f",
   "metadata": {},
   "outputs": [],
   "source": [
    "# compute AUC score \n",
    "def compute_auc(true_labels, predicted_labels):\n",
    "    fpr, tpr, thresholds = metrics.roc_curve(true_labels, predicted_labels)\n",
    "    auc = metrics.auc(fpr, tpr)\n",
    "    return auc"
   ]
  },
  {
   "cell_type": "code",
   "execution_count": null,
   "id": "db134df6",
   "metadata": {},
   "outputs": [],
   "source": [
    "data = []\n",
    "for dict in dict_data:\n",
    "    values_list = []\n",
    "    for value in dict[0].values():\n",
    "        if value >= 1:\n",
    "            values_list.append(1)\n",
    "        else:\n",
    "            values_list.append(0)\n",
    "    data.append([values_list,dict[1]])\n",
    "\n",
    "train_data, test_data = split(data)\n",
    "svm_test_predictions, svm_train_predictions = svm_classifier(train_data, test_data)\n",
    "knn_test_predictions, knn_train_predictions = knn_classifier(train_data, test_data)\n",
    "\n",
    "true_train_labels = [indi_data[1] for indi_data in train_data]\n",
    "true_test_labels = [indi_data[1] for indi_data in test_data]\n",
    "\n",
    "print(\"SVM Classifier\")\n",
    "print(\"Train accuracy: \",compute_accuracy(true_train_labels,svm_train_predictions))\n",
    "print(\"Train auc: \",compute_auc(true_train_labels,svm_train_predictions))\n",
    "print(\"Test accuracy: \",compute_accuracy(true_test_labels,svm_test_predictions))\n",
    "print(\"Test auc: \",compute_auc(true_test_labels,svm_test_predictions))\n",
    "\n",
    "print()\n",
    "\n",
    "print(\"K-NN Classifier\")\n",
    "print(\"Train accuracy: \",compute_accuracy(true_train_labels,knn_train_predictions))\n",
    "print(\"Train auc: \",compute_auc(true_train_labels,knn_train_predictions))\n",
    "print(\"Test accuracy: \",compute_accuracy(true_test_labels,knn_test_predictions))\n",
    "print(\"Test auc: \",compute_auc(true_test_labels,knn_test_predictions))"
   ]
  }
 ],
 "metadata": {
  "kernelspec": {
   "display_name": "Python 3 (ipykernel)",
   "language": "python",
   "name": "python3"
  },
  "language_info": {
   "codemirror_mode": {
    "name": "ipython",
    "version": 3
   },
   "file_extension": ".py",
   "mimetype": "text/x-python",
   "name": "python",
   "nbconvert_exporter": "python",
   "pygments_lexer": "ipython3",
   "version": "3.10.4"
  }
 },
 "nbformat": 4,
 "nbformat_minor": 5
}
